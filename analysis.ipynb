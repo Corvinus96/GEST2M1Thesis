{
 "cells": [
  {
   "cell_type": "markdown",
   "metadata": {},
   "source": [
    "# Importing packages"
   ]
  },
  {
   "cell_type": "code",
   "execution_count": 3,
   "metadata": {},
   "outputs": [
    {
     "data": {
      "application/javascript": [
       "if (!(\"Notification\" in window)) {\n",
       "    alert(\"This browser does not support desktop notifications, so the %%notify magic will not work.\");\n",
       "} else if (Notification.permission !== 'granted' && Notification.permission !== 'denied') {\n",
       "    Notification.requestPermission(function (permission) {\n",
       "        if(!('permission' in Notification)) {\n",
       "            Notification.permission = permission;\n",
       "        }\n",
       "    })\n",
       "}\n",
       "\n",
       "if(!window.jQuery) {\n",
       "    var jq = document.createElement('script');\n",
       "    jq.src = \"//ajax.googleapis.com/ajax/libs/jquery/2.1.4/jquery.min.js\";\n",
       "    document.getElementsByTagName('head')[0].appendChild(jq);\n",
       "}\n",
       "\n",
       "// Detect if the window is out of focus.\n",
       "window.jupyterNotifyIsInBackground = undefined;\n",
       "(function() {\n",
       "    // Check document.hidden support\n",
       "    var hidden;\n",
       "    if (typeof document.hidden !== \"undefined\") { // Opera 12.10 and Firefox 18 and later support\n",
       "      hidden = \"hidden\";\n",
       "    } else if (typeof document.msHidden !== \"undefined\") {\n",
       "      hidden = \"msHidden\";\n",
       "    } else if (typeof document.webkitHidden !== \"undefined\") {\n",
       "      hidden = \"webkitHidden\";\n",
       "    }\n",
       "\n",
       "    // Set initial background state\n",
       "    if (document[hidden]) {\n",
       "      window.jupyterNotifyIsInBackground = true;\n",
       "    } else {\n",
       "      window.jupyterNotifyIsInBackground = false;\n",
       "    }\n",
       "\n",
       "    window.addEventListener('blur', function() { window.jupyterNotifyIsInBackground = true; }, false);\n",
       "    window.addEventListener('focus', function() { window.jupyterNotifyIsInBackground = false; }, false);\n",
       "})();\n"
      ],
      "text/plain": [
       "<IPython.core.display.Javascript object>"
      ]
     },
     "metadata": {},
     "output_type": "display_data"
    }
   ],
   "source": [
    "%matplotlib inline\n",
    "%load_ext jupyternotify\n",
    "\n",
    "import os\n",
    "import datetime\n",
    "from functools import reduce\n",
    "\n",
    "import numpy as np\n",
    "import matplotlib.pyplot as plt\n",
    "plt.rc('text', usetex=True)\n",
    "\n",
    "import pandas as pd\n",
    "import pandas_datareader.data as web\n",
    "import scipy as sp"
   ]
  },
  {
   "cell_type": "code",
   "execution_count": 4,
   "metadata": {},
   "outputs": [],
   "source": [
    "start = datetime.datetime(2010, 1, 1)\n",
    "end = datetime.datetime(2020, 7, 15)\n",
    "\n",
    "sp500 =  web.DataReader(['sp500'], 'fred', start, end).dropna()"
   ]
  },
  {
   "cell_type": "code",
   "execution_count": 3,
   "metadata": {},
   "outputs": [
    {
     "data": {
      "text/html": [
       "<div>\n",
       "<style scoped>\n",
       "    .dataframe tbody tr th:only-of-type {\n",
       "        vertical-align: middle;\n",
       "    }\n",
       "\n",
       "    .dataframe tbody tr th {\n",
       "        vertical-align: top;\n",
       "    }\n",
       "\n",
       "    .dataframe thead th {\n",
       "        text-align: right;\n",
       "    }\n",
       "</style>\n",
       "<table border=\"1\" class=\"dataframe\">\n",
       "  <thead>\n",
       "    <tr style=\"text-align: right;\">\n",
       "      <th></th>\n",
       "      <th>sp500</th>\n",
       "    </tr>\n",
       "    <tr>\n",
       "      <th>DATE</th>\n",
       "      <th></th>\n",
       "    </tr>\n",
       "  </thead>\n",
       "  <tbody>\n",
       "    <tr>\n",
       "      <th>2010-08-09</th>\n",
       "      <td>1127.79</td>\n",
       "    </tr>\n",
       "    <tr>\n",
       "      <th>2010-08-10</th>\n",
       "      <td>1121.06</td>\n",
       "    </tr>\n",
       "    <tr>\n",
       "      <th>2010-08-11</th>\n",
       "      <td>1089.47</td>\n",
       "    </tr>\n",
       "    <tr>\n",
       "      <th>2010-08-12</th>\n",
       "      <td>1083.61</td>\n",
       "    </tr>\n",
       "    <tr>\n",
       "      <th>2010-08-13</th>\n",
       "      <td>1079.25</td>\n",
       "    </tr>\n",
       "    <tr>\n",
       "      <th>...</th>\n",
       "      <td>...</td>\n",
       "    </tr>\n",
       "    <tr>\n",
       "      <th>2020-07-09</th>\n",
       "      <td>3152.05</td>\n",
       "    </tr>\n",
       "    <tr>\n",
       "      <th>2020-07-10</th>\n",
       "      <td>3185.04</td>\n",
       "    </tr>\n",
       "    <tr>\n",
       "      <th>2020-07-13</th>\n",
       "      <td>3155.22</td>\n",
       "    </tr>\n",
       "    <tr>\n",
       "      <th>2020-07-14</th>\n",
       "      <td>3197.52</td>\n",
       "    </tr>\n",
       "    <tr>\n",
       "      <th>2020-07-15</th>\n",
       "      <td>3226.56</td>\n",
       "    </tr>\n",
       "  </tbody>\n",
       "</table>\n",
       "<p>2501 rows × 1 columns</p>\n",
       "</div>"
      ],
      "text/plain": [
       "              sp500\n",
       "DATE               \n",
       "2010-08-09  1127.79\n",
       "2010-08-10  1121.06\n",
       "2010-08-11  1089.47\n",
       "2010-08-12  1083.61\n",
       "2010-08-13  1079.25\n",
       "...             ...\n",
       "2020-07-09  3152.05\n",
       "2020-07-10  3185.04\n",
       "2020-07-13  3155.22\n",
       "2020-07-14  3197.52\n",
       "2020-07-15  3226.56\n",
       "\n",
       "[2501 rows x 1 columns]"
      ]
     },
     "execution_count": 3,
     "metadata": {},
     "output_type": "execute_result"
    }
   ],
   "source": [
    "sp500"
   ]
  },
  {
   "cell_type": "code",
   "execution_count": 5,
   "metadata": {},
   "outputs": [],
   "source": [
    "sp500['log_return'] = np.log(sp500['sp500']).diff()\n",
    "sp500 = sp500.dropna()"
   ]
  },
  {
   "cell_type": "code",
   "execution_count": 30,
   "metadata": {},
   "outputs": [
    {
     "data": {
      "text/html": [
       "<div>\n",
       "<style scoped>\n",
       "    .dataframe tbody tr th:only-of-type {\n",
       "        vertical-align: middle;\n",
       "    }\n",
       "\n",
       "    .dataframe tbody tr th {\n",
       "        vertical-align: top;\n",
       "    }\n",
       "\n",
       "    .dataframe thead th {\n",
       "        text-align: right;\n",
       "    }\n",
       "</style>\n",
       "<table border=\"1\" class=\"dataframe\">\n",
       "  <thead>\n",
       "    <tr style=\"text-align: right;\">\n",
       "      <th></th>\n",
       "      <th>sp500</th>\n",
       "      <th>log_return</th>\n",
       "    </tr>\n",
       "    <tr>\n",
       "      <th>DATE</th>\n",
       "      <th></th>\n",
       "      <th></th>\n",
       "    </tr>\n",
       "  </thead>\n",
       "  <tbody>\n",
       "    <tr>\n",
       "      <th>2010-08-10</th>\n",
       "      <td>1121.06</td>\n",
       "      <td>-0.005985</td>\n",
       "    </tr>\n",
       "    <tr>\n",
       "      <th>2010-08-11</th>\n",
       "      <td>1089.47</td>\n",
       "      <td>-0.028583</td>\n",
       "    </tr>\n",
       "    <tr>\n",
       "      <th>2010-08-12</th>\n",
       "      <td>1083.61</td>\n",
       "      <td>-0.005393</td>\n",
       "    </tr>\n",
       "    <tr>\n",
       "      <th>2010-08-13</th>\n",
       "      <td>1079.25</td>\n",
       "      <td>-0.004032</td>\n",
       "    </tr>\n",
       "    <tr>\n",
       "      <th>2010-08-16</th>\n",
       "      <td>1079.38</td>\n",
       "      <td>0.000120</td>\n",
       "    </tr>\n",
       "    <tr>\n",
       "      <th>...</th>\n",
       "      <td>...</td>\n",
       "      <td>...</td>\n",
       "    </tr>\n",
       "    <tr>\n",
       "      <th>2020-07-09</th>\n",
       "      <td>3152.05</td>\n",
       "      <td>-0.005660</td>\n",
       "    </tr>\n",
       "    <tr>\n",
       "      <th>2020-07-10</th>\n",
       "      <td>3185.04</td>\n",
       "      <td>0.010412</td>\n",
       "    </tr>\n",
       "    <tr>\n",
       "      <th>2020-07-13</th>\n",
       "      <td>3155.22</td>\n",
       "      <td>-0.009407</td>\n",
       "    </tr>\n",
       "    <tr>\n",
       "      <th>2020-07-14</th>\n",
       "      <td>3197.52</td>\n",
       "      <td>0.013317</td>\n",
       "    </tr>\n",
       "    <tr>\n",
       "      <th>2020-07-15</th>\n",
       "      <td>3226.56</td>\n",
       "      <td>0.009041</td>\n",
       "    </tr>\n",
       "  </tbody>\n",
       "</table>\n",
       "<p>2500 rows × 2 columns</p>\n",
       "</div>"
      ],
      "text/plain": [
       "              sp500  log_return\n",
       "DATE                           \n",
       "2010-08-10  1121.06   -0.005985\n",
       "2010-08-11  1089.47   -0.028583\n",
       "2010-08-12  1083.61   -0.005393\n",
       "2010-08-13  1079.25   -0.004032\n",
       "2010-08-16  1079.38    0.000120\n",
       "...             ...         ...\n",
       "2020-07-09  3152.05   -0.005660\n",
       "2020-07-10  3185.04    0.010412\n",
       "2020-07-13  3155.22   -0.009407\n",
       "2020-07-14  3197.52    0.013317\n",
       "2020-07-15  3226.56    0.009041\n",
       "\n",
       "[2500 rows x 2 columns]"
      ]
     },
     "execution_count": 30,
     "metadata": {},
     "output_type": "execute_result"
    }
   ],
   "source": [
    "sp500"
   ]
  },
  {
   "cell_type": "code",
   "execution_count": 31,
   "metadata": {},
   "outputs": [
    {
     "data": {
      "image/png": "[encoded data removed]",
      "text/plain": [
       "<Figure size 432x288 with 1 Axes>"
      ]
     },
     "metadata": {
      "needs_background": "light"
     },
     "output_type": "display_data"
    }
   ],
   "source": [
    "sp500['sp500'].plot(xlabel='date (year)', ylabel='price')\n",
    "plt.savefig('sp500_price.png', dpi=400)"
   ]
  },
  {
   "cell_type": "code",
   "execution_count": 12,
   "metadata": {},
   "outputs": [
    {
     "data": {
      "text/plain": [
       "<AxesSubplot:xlabel='date (year)', ylabel='log return'>"
      ]
     },
     "execution_count": 12,
     "metadata": {},
     "output_type": "execute_result"
    },
    {
     "data": {
      "image/png": "[encoded data removed]",
      "text/plain": [
       "<Figure size 432x288 with 1 Axes>"
      ]
     },
     "metadata": {
      "needs_background": "light"
     },
     "output_type": "display_data"
    }
   ],
   "source": [
    "sp500['log_return'].plot(xlabel='date (year)', ylabel='log return')\n",
    "plt.savefig('sp500_log.png', dpi=400)"
   ]
  },
  {
   "cell_type": "code",
   "execution_count": 6,
   "metadata": {},
   "outputs": [
    {
     "data": {
      "text/plain": [
       "DATE\n",
       "2010-08-10   -0.005985\n",
       "2010-08-11   -0.028583\n",
       "2010-08-12   -0.005393\n",
       "2010-08-13   -0.004032\n",
       "2010-08-16    0.000120\n",
       "                ...   \n",
       "2020-07-09   -0.005660\n",
       "2020-07-10    0.010412\n",
       "2020-07-13   -0.009407\n",
       "2020-07-14    0.013317\n",
       "2020-07-15    0.009041\n",
       "Name: log_return, Length: 2500, dtype: float64"
      ]
     },
     "execution_count": 6,
     "metadata": {},
     "output_type": "execute_result"
    }
   ],
   "source": [
    "sp500_series = sp500['log_return']\n",
    "sp500_series"
   ]
  },
  {
   "cell_type": "code",
   "execution_count": 30,
   "metadata": {},
   "outputs": [
    {
     "name": "stdout",
     "output_type": "stream",
     "text": [
      "26.50930319669311\n",
      "(array([363.0334266]), array([1.12285755e-53]))\n",
      "(1061.7083825637008, 1.4394175419177745e-196, 45.91804287095701, 7.80085395596842e-263)\n"
     ]
    },
    {
     "name": "stderr",
     "output_type": "stream",
     "text": [
      "/home/mnovak/.local/lib/python3.7/site-packages/statsmodels/stats/diagnostic.py:524: FutureWarning: The value returned will change to a single DataFrame after 0.12 is released.  Set return_df to True to use to return a DataFrame now.  Set return_df to False to silence this warning.\n",
      "  warnings.warn(msg, FutureWarning)\n"
     ]
    }
   ],
   "source": [
    "import scipy.stats as stats\n",
    "from statsmodels.stats.diagnostic import acorr_ljungbox, het_arch\n",
    "\n",
    "print(sp.stats.chi2.ppf(0.05, 40))\n",
    "print(acorr_ljungbox(sp500_series, lags=[40]))\n",
    "print(het_arch(sp500_series, nlags=40))"
   ]
  },
  {
   "cell_type": "code",
   "execution_count": 29,
   "metadata": {},
   "outputs": [
    {
     "data": {
      "image/png": "[encoded data removed]",
      "text/plain": [
       "<Figure size 432x288 with 1 Axes>"
      ]
     },
     "metadata": {
      "needs_background": "light"
     },
     "output_type": "display_data"
    },
    {
     "data": {
      "image/png": "[encoded data removed]",
      "text/plain": [
       "<Figure size 432x288 with 1 Axes>"
      ]
     },
     "metadata": {
      "needs_background": "light"
     },
     "output_type": "display_data"
    }
   ],
   "source": [
    "from statsmodels.graphics.tsaplots import plot_acf\n",
    "\n",
    "plot_acf(sp500_series)\n",
    "plt.xlabel('lag')\n",
    "plt.savefig('sp500_ac.png', dpi=400)\n",
    "plt.show()\n",
    "\n",
    "plot_acf(np.abs(sp500_series))\n",
    "plt.xlabel('lag')\n",
    "plt.title(\"Absolute autocorrelation\")\n",
    "plt.savefig('sp500_aac.png', dpi=400)\n",
    "plt.show()"
   ]
  },
  {
   "cell_type": "code",
   "execution_count": 53,
   "metadata": {},
   "outputs": [
    {
     "data": {
      "image/png": "[encoded data removed]",
      "text/plain": [
       "<Figure size 432x288 with 1 Axes>"
      ]
     },
     "metadata": {
      "needs_background": "light"
     },
     "output_type": "display_data"
    },
    {
     "data": {
      "image/png": "[encoded data removed]",
      "text/plain": [
       "<Figure size 432x288 with 1 Axes>"
      ]
     },
     "metadata": {
      "needs_background": "light"
     },
     "output_type": "display_data"
    },
    {
     "data": {
      "image/png": "[encoded data removed]",
      "text/plain": [
       "<Figure size 432x288 with 1 Axes>"
      ]
     },
     "metadata": {
      "needs_background": "light"
     },
     "output_type": "display_data"
    },
    {
     "data": {
      "image/png": "[encoded data removed]",
      "text/plain": [
       "<Figure size 432x288 with 1 Axes>"
      ]
     },
     "metadata": {
      "needs_background": "light"
     },
     "output_type": "display_data"
    },
    {
     "data": {
      "image/png": "[encoded data removed]",
      "text/plain": [
       "<Figure size 432x288 with 1 Axes>"
      ]
     },
     "metadata": {
      "needs_background": "light"
     },
     "output_type": "display_data"
    }
   ],
   "source": [
    "from statsmodels.graphics.gofplots import qqplot\n",
    "\n",
    "qqplot(sp500_series)\n",
    "plt.title(\"Normal\")\n",
    "plt.savefig('sp500_qq_norm.png', dpi=400)\n",
    "plt.show()\n",
    "\n",
    "qqplot(sp500_series, stats.t, distargs=(1,))\n",
    "plt.title(\"Student-t with 1 degree of freedom\")\n",
    "plt.savefig('sp500_qq_t1.png', dpi=400)\n",
    "plt.show()\n",
    "\n",
    "qqplot(sp500_series, stats.t, distargs=(2,))\n",
    "plt.title(\"Student-t with 2 degrees of freedom\")\n",
    "plt.savefig('sp500_qq_t2.png', dpi=400)\n",
    "plt.show()\n",
    "\n",
    "qqplot(sp500_series, stats.t, distargs=(3,))\n",
    "plt.title(\"Student-t with 3 degrees of freedom\")\n",
    "plt.savefig('sp500_qq_t3.png', dpi=400)\n",
    "plt.show()\n",
    "\n",
    "qqplot(sp500_series, stats.t, distargs=(4,))\n",
    "plt.title(\"Student-t with 4 degrees of freedom\")\n",
    "plt.savefig('sp500_qq_t4.png', dpi=400)\n",
    "plt.show()"
   ]
  },
  {
   "cell_type": "code",
   "execution_count": 26,
   "metadata": {},
   "outputs": [
    {
     "name": "stdout",
     "output_type": "stream",
     "text": [
      "Skewness: -0.918530\n",
      "Kurtosis: 18.397526\n",
      "Jarque Bera: 35608.723872 0.000000\n"
     ]
    }
   ],
   "source": [
    "from scipy.stats import skew, kurtosis, jarque_bera\n",
    "import seaborn as sns\n",
    "\n",
    "print(\"Skewness: {:f}\".format(skew(sp500_series)))\n",
    "print(\"Kurtosis: {:f}\".format(kurtosis(sp500_series)))\n",
    "print(\"Jarque Bera: {:f} {:f}\".format(*jarque_bera(sp500_series)))"
   ]
  },
  {
   "cell_type": "code",
   "execution_count": null,
   "metadata": {},
   "outputs": [],
   "source": [
    "plt.rc('text', usetex=False)\n",
    "ax = sns.distplot(sp500['log_return'], hist=False, label='S&P 500', norm_hist=True)\n",
    "xx = np.arange(-100, +100, 0.00001)                                                   \n",
    "yy = stats.norm.pdf(xx, loc=0, scale=1)   \n",
    "print(\"Skewness: {:f}\".format(skew(yy)))\n",
    "print(\"Kurtosis: {:f}\".format(kurtosis(yy)))\n",
    "print(\"Jarque Bera: {:f} {:f}\".format(*jarque_bera(yy)))\n",
    "# and plot on the same axes that seaborn put the histogram\n",
    "ax.plot(xx, yy, 'r', lw=1, label='Equivalent normal distribution') \n",
    "ax.set_ylim([0, 70])\n",
    "ax.set_xlim([-0.2, 0.1])\n",
    "ax.legend()\n",
    "ax.set_xlabel(\"log return\")\n",
    "ax.set_ylabel(\"probability density\")\n",
    "plt.savefig('sp500_dist.png', dpi=400)\n",
    "plt.show()"
   ]
  },
  {
   "cell_type": "code",
   "execution_count": 40,
   "metadata": {},
   "outputs": [
    {
     "data": {
      "image/png": "[encoded data removed]",
      "text/plain": [
       "<Figure size 432x288 with 1 Axes>"
      ]
     },
     "metadata": {
      "needs_background": "light"
     },
     "output_type": "display_data"
    }
   ],
   "source": [
    "ax = sns.distplot(sp500['log_return'], hist=False, label='S&P 500', norm_hist=True)\n",
    "xx = np.arange(-1, +1, 0.001)                                                   \n",
    "yy = stats.norm.pdf(xx, loc=sp500_series.mean(), scale=sp500_series.std())                                                         \n",
    "# and plot on the same axes that seaborn put the histogram\n",
    "ax.plot(xx, yy, 'r', lw=1, label='Equivalent normal distribution') \n",
    "ax.set_ylim([0, 3])\n",
    "ax.set_xlim([-0.15, -0.01])\n",
    "ax.legend()\n",
    "ax.set_xlabel(\"log return\")\n",
    "ax.set_ylabel(\"probability density\")\n",
    "plt.savefig('sp500_dist_zoom.png', dpi=400)\n",
    "plt.show()"
   ]
  },
  {
   "cell_type": "code",
   "execution_count": null,
   "metadata": {},
   "outputs": [],
   "source": [
    "def calculate_VaR()"
   ]
  },
  {
   "cell_type": "code",
   "execution_count": 27,
   "metadata": {},
   "outputs": [
    {
     "data": {
      "image/png": "[encoded data removed]",
      "text/plain": [
       "<Figure size 432x288 with 1 Axes>"
      ]
     },
     "metadata": {
      "needs_background": "light"
     },
     "output_type": "display_data"
    }
   ],
   "source": [
    "win_size = 250\n",
    "alpha_list = [0.05, 0.01]\n",
    "var_list = [np.zeros((sp500_series.size-win_size+1)) for i in alpha_list]\n",
    "results = pd.DataFrame(index=sp500_series.index[win_size-1:])\n",
    "\n",
    "for i in range(0, sp500_series.size-win_size+1):\n",
    "    current_returns = sp500_series[i:i+win_size]\n",
    "    for alpha, var in zip(alpha_list, var_list):\n",
    "        var[i] = -current_returns.quantile(alpha)\n",
    "\n",
    "for alpha, var in zip(alpha_list, var_list):\n",
    "    results['VaR({}\\%)'.format(int((1-alpha)*100))] = var\n",
    "    \n",
    "results.plot(xlabel='Date')\n",
    "plt.savefig('univariate_VaR_historical.png', dpi=400)"
   ]
  },
  {
   "cell_type": "code",
   "execution_count": 24,
   "metadata": {},
   "outputs": [
    {
     "data": {
      "text/plain": [
       "1.38"
      ]
     },
     "execution_count": 24,
     "metadata": {},
     "output_type": "execute_result"
    }
   ],
   "source": [
    "I = [1 if log_return < -VaR else 0 for VaR, log_return in zip(results['VaR(99%)'], sp500_series[win_size-1:])]\n",
    "round(sum(I)/len(I)*100, 2)"
   ]
  },
  {
   "cell_type": "code",
   "execution_count": 28,
   "metadata": {},
   "outputs": [
    {
     "data": {
      "image/png": "[encoded data removed]",
      "text/plain": [
       "<Figure size 432x288 with 1 Axes>"
      ]
     },
     "metadata": {
      "needs_background": "light"
     },
     "output_type": "display_data"
    }
   ],
   "source": [
    "from scipy.stats import norm\n",
    "\n",
    "win_size = 250\n",
    "alpha_list = [0.05, 0.01]\n",
    "var_list = [np.zeros((sp500_series.size-win_size+1)) for i in alpha_list]\n",
    "results = pd.DataFrame(index=sp500_series.index[win_size-1:])\n",
    "\n",
    "for i in range(0, sp500_series.size-win_size+1):\n",
    "    current_returns = sp500_series[i:i+win_size]\n",
    "    for alpha, var in zip(alpha_list, var_list):\n",
    "        mean = current_returns.mean()\n",
    "        std = current_returns.std()\n",
    "        var[i] = -(mean + std*norm.ppf(alpha))\n",
    "\n",
    "for alpha, var in zip(alpha_list, var_list):\n",
    "    results['VaR({}\\%)'.format(int((1-alpha)*100))] = var\n",
    "    \n",
    "results.plot(xlabel='Date')\n",
    "plt.savefig('univariate_VaR_normal.png', dpi=400)"
   ]
  },
  {
   "cell_type": "code",
   "execution_count": 31,
   "metadata": {},
   "outputs": [
    {
     "data": {
      "text/plain": [
       "2.98"
      ]
     },
     "execution_count": 31,
     "metadata": {},
     "output_type": "execute_result"
    }
   ],
   "source": [
    "I = [1 if log_return < -VaR else 0 for VaR, log_return in zip(results['VaR(99\\%)'], sp500_series[win_size-1:])]\n",
    "round(sum(I)/len(I)*100, 2)"
   ]
  },
  {
   "cell_type": "code",
   "execution_count": 24,
   "metadata": {},
   "outputs": [
    {
     "name": "stdout",
     "output_type": "stream",
     "text": [
      "0\n",
      "100\n",
      "200\n",
      "300\n",
      "400\n",
      "500\n",
      "600\n",
      "700\n",
      "800\n",
      "900\n",
      "1000\n",
      "1100\n",
      "1200\n",
      "1300\n",
      "1400\n",
      "1500\n",
      "1600\n",
      "1700\n",
      "1800\n",
      "1900\n",
      "2000\n",
      "2100\n",
      "2200\n"
     ]
    },
    {
     "data": {
      "image/png": "[encoded data removed]",
      "text/plain": [
       "<Figure size 432x288 with 1 Axes>"
      ]
     },
     "metadata": {
      "needs_background": "light"
     },
     "output_type": "display_data"
    }
   ],
   "source": [
    "from scipy.stats import norm\n",
    "from scipy.stats import t\n",
    "\n",
    "win_size = 250\n",
    "alpha_list = [0.05, 0.01]\n",
    "var_list = [np.zeros((sp500_series.size-win_size+1)) for i in alpha_list]\n",
    "results = pd.DataFrame(index=sp500_series.index[win_size-1:])\n",
    "\n",
    "for i in range(0, sp500_series.size-win_size+1):\n",
    "    if i % 100 == 0:\n",
    "        print(i)\n",
    "    current_returns = sp500_series[i:i+win_size]\n",
    "    df, loc, scale = t.fit(current_returns, floc=0)\n",
    "    for alpha, var in zip(alpha_list, var_list):\n",
    "        var[i] = -t.ppf(alpha, df, loc, scale)\n",
    "\n",
    "for alpha, var in zip(alpha_list, var_list):\n",
    "    results['VaR({}\\%)'.format(int((1-alpha)*100))] = var\n",
    "    \n",
    "results.plot(xlabel='Date')\n",
    "plt.savefig('univariate_VaR_t.png', dpi=400)"
   ]
  },
  {
   "cell_type": "code",
   "execution_count": 22,
   "metadata": {},
   "outputs": [
    {
     "data": {
      "text/plain": [
       "6.75"
      ]
     },
     "execution_count": 22,
     "metadata": {},
     "output_type": "execute_result"
    }
   ],
   "source": [
    "I = [1 if log_return < -VaR else 0 for VaR, log_return in zip(results['VaR(95\\%)'], sp500_series[win_size-1:])]\n",
    "round(sum(I)/len(I)*100, 2)"
   ]
  },
  {
   "cell_type": "code",
   "execution_count": 23,
   "metadata": {},
   "outputs": [
    {
     "data": {
      "text/plain": [
       "1.64"
      ]
     },
     "execution_count": 23,
     "metadata": {},
     "output_type": "execute_result"
    }
   ],
   "source": [
    "I = [1 if log_return < -VaR else 0 for VaR, log_return in zip(results['VaR(99\\%)'], sp500_series[win_size-1:])]\n",
    "round(sum(I)/len(I)*100, 2)"
   ]
  },
  {
   "cell_type": "code",
   "execution_count": 37,
   "metadata": {},
   "outputs": [
    {
     "data": {
      "image/png": "[encoded data removed]",
      "text/plain": [
       "<Figure size 432x288 with 1 Axes>"
      ]
     },
     "metadata": {
      "needs_background": "light"
     },
     "output_type": "display_data"
    }
   ],
   "source": [
    "from scipy.stats import norm\n",
    "\n",
    "win_size = 250\n",
    "alpha_list = [0.05, 0.01]\n",
    "l = 0.94\n",
    "var_list = [np.zeros((sp500_series.size-win_size+1)) for i in alpha_list]\n",
    "results = pd.DataFrame(index=sp500_series.index[win_size-1:])\n",
    "\n",
    "sigma = sp500_series[0]**2\n",
    "for i in range(1, win_size):\n",
    "    sigma = (1-l)*sp500_series[i-1]**2 + l*sigma\n",
    "\n",
    "for i in range(0, sp500_series.size-win_size+1):\n",
    "    current_returns = sp500_series[i:i+win_size]\n",
    "    sigma = (1-l)*sp500_series[win_size+i-1]**2 + l*sigma\n",
    "    std = np.sqrt(sigma)\n",
    "    mean = current_returns.mean()\n",
    "    for alpha, var in zip(alpha_list, var_list):\n",
    "        var[i] = -(mean + std*norm.ppf(alpha))\n",
    "\n",
    "for alpha, var in zip(alpha_list, var_list):\n",
    "    results['VaR({}\\%)'.format(int((1-alpha)*100))] = var\n",
    "    \n",
    "results.plot(xlabel='Date')\n",
    "plt.savefig('univariate_VaR_ewma.png', dpi=400)"
   ]
  },
  {
   "cell_type": "code",
   "execution_count": 36,
   "metadata": {},
   "outputs": [
    {
     "data": {
      "text/plain": [
       "2.0"
      ]
     },
     "execution_count": 36,
     "metadata": {},
     "output_type": "execute_result"
    }
   ],
   "source": [
    "I = [1 if log_return < -VaR else 0 for VaR, log_return in zip(results['VaR(99\\%)'], sp500_series[win_size-1:])]\n",
    "round(sum(I)/len(I)*100, 2)"
   ]
  },
  {
   "cell_type": "code",
   "execution_count": 8,
   "metadata": {},
   "outputs": [],
   "source": [
    "import rpy2.robjects as ro\n",
    "from rpy2.robjects.packages import importr\n",
    "import rpy2.robjects.numpy2ri\n",
    "rpy2.robjects.numpy2ri.activate()\n",
    "from rpy2.robjects import pandas2ri\n",
    "pandas2ri.activate()"
   ]
  },
  {
   "cell_type": "code",
   "execution_count": 9,
   "metadata": {},
   "outputs": [
    {
     "name": "stderr",
     "output_type": "stream",
     "text": [
      "R[write to console]: Loading required package: parallel\n",
      "\n",
      "R[write to console]: \n",
      "Attaching package: ‘rugarch’\n",
      "\n",
      "\n",
      "R[write to console]: The following object is masked from ‘package:stats’:\n",
      "\n",
      "    sigma\n",
      "\n",
      "\n"
     ]
    }
   ],
   "source": [
    "rscript=\"\"\"\n",
    "    library(rugarch)\n",
    "    calculate_var_garch <- function(tau, returns){\n",
    "        uspec <- ugarchspec(variance.model = list(model = \"sGARCH\", garchOrder = c(1,1)),mean.model = list(armaOrder = c(0,0), include.mean = TRUE),distribution.model = \"std\")\n",
    "        fit.garch <- ugarchfit(spec = uspec, data = returns)\n",
    "        set.seed(42) \n",
    "        boot.garch <- ugarchboot(fit.garch,method=c(\"Partial\",\"Full\")[1],sampling=\"raw\",n.ahead=1, n.bootpred=10000, solver=\"solnp\")\n",
    "        rvec <- boot.garch@fseries\n",
    "        quantile(rvec,tau)\n",
    "    }\n",
    "\"\"\"\n",
    "\n",
    "ro.r(rscript)\n",
    "calculate_var_garch = ro.r['calculate_var_garch']"
   ]
  },
  {
   "cell_type": "code",
   "execution_count": 54,
   "metadata": {},
   "outputs": [],
   "source": [
    "from arch import arch_model"
   ]
  },
  {
   "cell_type": "code",
   "execution_count": 65,
   "metadata": {},
   "outputs": [
    {
     "data": {
      "text/plain": [
       "DatetimeIndex(['2010-08-10', '2010-08-11', '2010-08-12', '2010-08-13',\n",
       "               '2010-08-16', '2010-08-17', '2010-08-18', '2010-08-19',\n",
       "               '2010-08-20', '2010-08-23',\n",
       "               ...\n",
       "               '2011-07-22', '2011-07-25', '2011-07-26', '2011-07-27',\n",
       "               '2011-07-28', '2011-07-29', '2011-08-01', '2011-08-02',\n",
       "               '2011-08-03', '2011-08-04'],\n",
       "              dtype='datetime64[ns]', name='DATE', length=250, freq=None)"
      ]
     },
     "execution_count": 65,
     "metadata": {},
     "output_type": "execute_result"
    }
   ],
   "source": [
    "current_returns.index"
   ]
  },
  {
   "cell_type": "code",
   "execution_count": 79,
   "metadata": {},
   "outputs": [
    {
     "name": "stdout",
     "output_type": "stream",
     "text": [
      "0\n",
      "100\n",
      "200\n",
      "300\n",
      "400\n",
      "500\n",
      "600\n",
      "700\n",
      "800\n",
      "900\n",
      "1000\n",
      "1100\n",
      "1200\n",
      "1300\n",
      "1400\n",
      "1500\n",
      "1600\n",
      "1700\n",
      "1800\n",
      "1900\n",
      "2000\n",
      "2100\n",
      "2200\n"
     ]
    },
    {
     "data": {
      "image/png": "[encoded data removed]",
      "text/plain": [
       "<Figure size 432x288 with 1 Axes>"
      ]
     },
     "metadata": {
      "needs_background": "light"
     },
     "output_type": "display_data"
    },
    {
     "data": {
      "application/javascript": [
       "$(document).ready(\n",
       "    function() {\n",
       "        function appendUniqueDiv(){\n",
       "            // append a div with our uuid so we can check that it's already\n",
       "            // been sent and avoid duplicates on page reload\n",
       "            var notifiedDiv = document.createElement(\"div\")\n",
       "            notifiedDiv.id = \"64b1aa30-62ea-49b3-b6ca-23c9d5facccc\"\n",
       "            element.append(notifiedDiv)\n",
       "        }\n",
       "\n",
       "        // only send notifications if the pageload is complete; this will\n",
       "        // help stop extra notifications when a saved notebook is loaded,\n",
       "        // which during testing gives us state \"interactive\", not \"complete\"\n",
       "        if (document.readyState === 'complete') {\n",
       "            // check for the div that signifies that the notification\n",
       "            // was already sent\n",
       "            if (document.getElementById(\"64b1aa30-62ea-49b3-b6ca-23c9d5facccc\") === null) {\n",
       "                var notificationPayload = {\"requireInteraction\": false, \"icon\": \"/static/base/images/favicon.ico\", \"body\": \"Cell execution has finished!\", \"only_in_background\": false};\n",
       "\n",
       "                // We have a notification but the window is active\n",
       "                if (notificationPayload.only_in_background && !window.jupyterNotifyIsInBackground) {\n",
       "                    appendUniqueDiv();\n",
       "                    return;\n",
       "                }\n",
       "                if (Notification.permission !== 'denied') {\n",
       "                    if (Notification.permission !== 'granted') { \n",
       "                        Notification.requestPermission(function (permission) {\n",
       "                            if(!('permission' in Notification)) {\n",
       "                                Notification.permission = permission\n",
       "                            }\n",
       "                        })\n",
       "                    }\n",
       "                    if (Notification.permission === 'granted') {\n",
       "                    var notification = new Notification(\"Jupyter Notebook\", notificationPayload)\n",
       "                    appendUniqueDiv()\n",
       "                    notification.onclick = function () {\n",
       "                        window.focus();\n",
       "                        this.close();\n",
       "                        };\n",
       "                    } \n",
       "                }     \n",
       "            }\n",
       "        }\n",
       "    }\n",
       ")\n"
      ],
      "text/plain": [
       "<IPython.core.display.Javascript object>"
      ]
     },
     "metadata": {},
     "output_type": "display_data"
    }
   ],
   "source": [
    "%%notify\n",
    "\n",
    "\n",
    "win_size = 250\n",
    "alpha_list = [0.05, 0.01]\n",
    "var_list = [np.zeros((sp500_series.size-win_size+1)) for i in alpha_list]\n",
    "results = pd.DataFrame(index=sp500_series.index[win_size-1:])\n",
    "\n",
    "for i in range(0, sp500_series.size-win_size+1):\n",
    "    current_returns = sp500_series[i:i+win_size]\n",
    "    if (i % 100 == 0):\n",
    "        print(i)\n",
    "    am = arch_model(100*current_returns, mean='Zero', vol='Garch', p=1, o=0, q=1, dist='studentst')\n",
    "    res = am.fit(disp='off', show_warning=False, first_obs=current_returns.index[0])\n",
    "    forecasts = res.forecast()\n",
    "    for alpha, var in zip(alpha_list, var_list):\n",
    "        var[i] = -am.distribution.ppf(alpha, res.params[-1:])/100\n",
    "\n",
    "for alpha, var in zip(alpha_list, var_list):\n",
    "    results['VaR({}\\%)'.format(int((1-alpha)*100))] = var\n",
    "    \n",
    "results.plot(xlabel='Date')\n",
    "plt.savefig('univariate_VaR_garch.png', dpi=400) "
   ]
  },
  {
   "cell_type": "code",
   "execution_count": 82,
   "metadata": {},
   "outputs": [
    {
     "data": {
      "text/plain": [
       "5.46"
      ]
     },
     "execution_count": 82,
     "metadata": {},
     "output_type": "execute_result"
    }
   ],
   "source": [
    "I = [1 if log_return < -VaR else 0 for VaR, log_return in zip(results['VaR(95\\%)'], sp500_series[win_size-1:])]\n",
    "round(sum(I)/len(I)*100, 2)"
   ]
  },
  {
   "cell_type": "code",
   "execution_count": 83,
   "metadata": {},
   "outputs": [
    {
     "data": {
      "text/plain": [
       "1.91"
      ]
     },
     "execution_count": 83,
     "metadata": {},
     "output_type": "execute_result"
    }
   ],
   "source": [
    "I = [1 if log_return < -VaR else 0 for VaR, log_return in zip(results['VaR(99\\%)'], sp500_series[win_size-1:])]\n",
    "round(sum(I)/len(I)*100, 2)"
   ]
  },
  {
   "cell_type": "code",
   "execution_count": 12,
   "metadata": {},
   "outputs": [
    {
     "name": "stderr",
     "output_type": "stream",
     "text": [
      "R[write to console]: \n",
      "Attaching package: ‘kernlab’\n",
      "\n",
      "\n",
      "R[write to console]: The following object is masked from ‘package:rugarch’:\n",
      "\n",
      "    convergence\n",
      "\n",
      "\n"
     ]
    }
   ],
   "source": [
    "rscript=\"\"\"\n",
    "    library(kernlab)\n",
    "    calculate_var <- function(tau, returns){\n",
    "        x <- 1:length(returns)\n",
    "        qrm <- kqr(x, returns, tau=tau, C=0.1, kpar=list(sigma=1), kernel='rbfdot')\n",
    "        predict(qrm, length(returns)+1)\n",
    "    }\n",
    "\"\"\"\n",
    "\n",
    "ro.r(rscript)\n",
    "calculate_var = ro.r['calculate_var']"
   ]
  },
  {
   "cell_type": "code",
   "execution_count": 13,
   "metadata": {},
   "outputs": [
    {
     "name": "stdout",
     "output_type": "stream",
     "text": [
      "0\n",
      "10\n",
      "20\n",
      "30\n",
      "40\n",
      "50\n",
      "60\n",
      "70\n",
      "80\n",
      "90\n",
      "100\n",
      "110\n",
      "120\n",
      "130\n",
      "140\n",
      "150\n",
      "160\n",
      "170\n",
      "180\n",
      "190\n",
      "200\n",
      "210\n",
      "220\n",
      "230\n",
      "240\n",
      "250\n",
      "260\n",
      "270\n",
      "280\n",
      "290\n",
      "300\n",
      "310\n",
      "320\n",
      "330\n",
      "340\n",
      "350\n",
      "360\n",
      "370\n",
      "380\n",
      "390\n",
      "400\n",
      "410\n",
      "420\n",
      "430\n",
      "440\n",
      "450\n",
      "460\n",
      "470\n",
      "480\n",
      "490\n",
      "500\n",
      "510\n",
      "520\n",
      "530\n",
      "540\n",
      "550\n",
      "560\n",
      "570\n",
      "580\n",
      "590\n",
      "600\n",
      "610\n",
      "620\n",
      "630\n",
      "640\n",
      "650\n",
      "660\n",
      "670\n",
      "680\n",
      "690\n",
      "700\n",
      "710\n",
      "720\n",
      "730\n",
      "740\n",
      "750\n",
      "760\n",
      "770\n",
      "780\n",
      "790\n",
      "800\n",
      "810\n",
      "820\n",
      "830\n",
      "840\n",
      "850\n",
      "860\n",
      "870\n",
      "880\n",
      "890\n",
      "900\n",
      "910\n",
      "920\n",
      "930\n",
      "940\n",
      "950\n",
      "960\n",
      "970\n",
      "980\n",
      "990\n",
      "1000\n",
      "1010\n",
      "1020\n",
      "1030\n",
      "1040\n",
      "1050\n",
      "1060\n",
      "1070\n",
      "1080\n",
      "1090\n",
      "1100\n",
      "1110\n",
      "1120\n",
      "1130\n",
      "1140\n",
      "1150\n",
      "1160\n",
      "1170\n",
      "1180\n",
      "1190\n",
      "1200\n",
      "1210\n",
      "1220\n",
      "1230\n",
      "1240\n",
      "1250\n",
      "1260\n",
      "1270\n",
      "1280\n",
      "1290\n",
      "1300\n",
      "1310\n",
      "1320\n",
      "1330\n",
      "1340\n",
      "1350\n",
      "1360\n",
      "1370\n",
      "1380\n",
      "1390\n",
      "1400\n",
      "1410\n",
      "1420\n",
      "1430\n",
      "1440\n",
      "1450\n",
      "1460\n",
      "1470\n",
      "1480\n",
      "1490\n",
      "1500\n",
      "1510\n",
      "1520\n",
      "1530\n",
      "1540\n",
      "1550\n",
      "1560\n",
      "1570\n",
      "1580\n",
      "1590\n",
      "1600\n",
      "1610\n",
      "1620\n",
      "1630\n",
      "1640\n",
      "1650\n",
      "1660\n",
      "1670\n",
      "1680\n",
      "1690\n",
      "1700\n",
      "1710\n",
      "1720\n",
      "1730\n",
      "1740\n",
      "1750\n",
      "1760\n",
      "1770\n",
      "1780\n",
      "1790\n",
      "1800\n",
      "1810\n",
      "1820\n",
      "1830\n",
      "1840\n",
      "1850\n",
      "1860\n",
      "1870\n",
      "1880\n",
      "1890\n",
      "1900\n",
      "1910\n",
      "1920\n",
      "1930\n",
      "1940\n",
      "1950\n",
      "1960\n",
      "1970\n",
      "1980\n",
      "1990\n",
      "2000\n",
      "2010\n",
      "2020\n",
      "2030\n",
      "2040\n",
      "2050\n",
      "2060\n",
      "2070\n",
      "2080\n",
      "2090\n",
      "2100\n",
      "2110\n",
      "2120\n",
      "2130\n",
      "2140\n",
      "2150\n",
      "2160\n",
      "2170\n",
      "2180\n",
      "2190\n",
      "2200\n",
      "2210\n",
      "2220\n",
      "2230\n",
      "2240\n",
      "2250\n"
     ]
    },
    {
     "data": {
      "image/png": "[encoded data removed]",
      "text/plain": [
       "<Figure size 432x288 with 1 Axes>"
      ]
     },
     "metadata": {
      "needs_background": "light"
     },
     "output_type": "display_data"
    },
    {
     "data": {
      "application/javascript": [
       "$(document).ready(\n",
       "    function() {\n",
       "        function appendUniqueDiv(){\n",
       "            // append a div with our uuid so we can check that it's already\n",
       "            // been sent and avoid duplicates on page reload\n",
       "            var notifiedDiv = document.createElement(\"div\")\n",
       "            notifiedDiv.id = \"a1492937-5071-4e6e-8d89-f80710cffc7b\"\n",
       "            element.append(notifiedDiv)\n",
       "        }\n",
       "\n",
       "        // only send notifications if the pageload is complete; this will\n",
       "        // help stop extra notifications when a saved notebook is loaded,\n",
       "        // which during testing gives us state \"interactive\", not \"complete\"\n",
       "        if (document.readyState === 'complete') {\n",
       "            // check for the div that signifies that the notification\n",
       "            // was already sent\n",
       "            if (document.getElementById(\"a1492937-5071-4e6e-8d89-f80710cffc7b\") === null) {\n",
       "                var notificationPayload = {\"requireInteraction\": false, \"icon\": \"/static/base/images/favicon.ico\", \"body\": \"Cell execution has finished!\", \"only_in_background\": false};\n",
       "\n",
       "                // We have a notification but the window is active\n",
       "                if (notificationPayload.only_in_background && !window.jupyterNotifyIsInBackground) {\n",
       "                    appendUniqueDiv();\n",
       "                    return;\n",
       "                }\n",
       "                if (Notification.permission !== 'denied') {\n",
       "                    if (Notification.permission !== 'granted') { \n",
       "                        Notification.requestPermission(function (permission) {\n",
       "                            if(!('permission' in Notification)) {\n",
       "                                Notification.permission = permission\n",
       "                            }\n",
       "                        })\n",
       "                    }\n",
       "                    if (Notification.permission === 'granted') {\n",
       "                    var notification = new Notification(\"Jupyter Notebook\", notificationPayload)\n",
       "                    appendUniqueDiv()\n",
       "                    notification.onclick = function () {\n",
       "                        window.focus();\n",
       "                        this.close();\n",
       "                        };\n",
       "                    } \n",
       "                }     \n",
       "            }\n",
       "        }\n",
       "    }\n",
       ")\n"
      ],
      "text/plain": [
       "<IPython.core.display.Javascript object>"
      ]
     },
     "metadata": {},
     "output_type": "display_data"
    }
   ],
   "source": [
    "%%notify\n",
    "\n",
    "win_size = 250\n",
    "alpha_list = [0.05, 0.01]\n",
    "var_list = [np.zeros((sp500_series.size-win_size+1)) for i in alpha_list]\n",
    "results = pd.DataFrame(index=sp500_series.index[win_size-1:])\n",
    "\n",
    "for i in range(0, sp500_series.size-win_size+1):\n",
    "    current_returns = sp500_series[i:i+win_size]\n",
    "    if (i % 10 == 0):\n",
    "        print(i)\n",
    "    for alpha, var in zip(alpha_list, var_list):\n",
    "        var[i] = -np.array(calculate_var(alpha, current_returns.to_numpy()))\n",
    "\n",
    "for alpha, var in zip(alpha_list, var_list):\n",
    "    results['VaR({}\\%)'.format(int((1-alpha)*100))] = var\n",
    "    \n",
    " \n",
    "results.plot(xlabel='Date')\n",
    "plt.savefig('univariate_VaR_kqr.png', dpi=400)   "
   ]
  },
  {
   "cell_type": "code",
   "execution_count": 18,
   "metadata": {},
   "outputs": [
    {
     "data": {
      "text/plain": [
       "5.15"
      ]
     },
     "execution_count": 18,
     "metadata": {},
     "output_type": "execute_result"
    }
   ],
   "source": [
    "I = [1 if log_return < -VaR else 0 for VaR, log_return in zip(results['VaR(95\\%)'], sp500_series[win_size-1:])]\n",
    "round(sum(I)/len(I)*100, 2)"
   ]
  },
  {
   "cell_type": "code",
   "execution_count": 19,
   "metadata": {},
   "outputs": [
    {
     "data": {
      "text/plain": [
       "0.93"
      ]
     },
     "execution_count": 19,
     "metadata": {},
     "output_type": "execute_result"
    }
   ],
   "source": [
    "I = [1 if log_return < -VaR else 0 for VaR, log_return in zip(results['VaR(99\\%)'], sp500_series[win_size-1:])]\n",
    "round(sum(I)/len(I)*100, 2)"
   ]
  },
  {
   "cell_type": "markdown",
   "metadata": {},
   "source": [
    "# Part 2"
   ]
  },
  {
   "cell_type": "code",
   "execution_count": 3,
   "metadata": {},
   "outputs": [],
   "source": [
    "#written by Enzo Michelangeli, style changes by josef-pktd\n",
    "# Student's T random variable\n",
    "def multivariate_t_rvs(m, S, df=np.inf, n=1):\n",
    "    '''generate random variables of multivariate t distribution\n",
    "    Parameters\n",
    "    ----------\n",
    "    m : array_like\n",
    "        mean of random variable, length determines dimension of random variable\n",
    "    S : array_like\n",
    "        square array of covariance  matrix\n",
    "    df : int or float\n",
    "        degrees of freedom\n",
    "    n : int\n",
    "        number of observations, return random array will be (n, len(m))\n",
    "    Returns\n",
    "    -------\n",
    "    rvs : ndarray, (n, len(m))\n",
    "        each row is an independent draw of a multivariate t distributed\n",
    "        random variable\n",
    "    '''\n",
    "    m = np.asarray(m)\n",
    "    d = len(m)\n",
    "    if df == np.inf:\n",
    "        x = 1.\n",
    "    else:\n",
    "        x = np.random.chisquare(df, n)/df\n",
    "    z = np.random.multivariate_normal(np.zeros(d),S,(n,))\n",
    "    return m + z/np.sqrt(x)[:,None]   # same output format as random.multivariate_normal"
   ]
  },
  {
   "cell_type": "code",
   "execution_count": 59,
   "metadata": {},
   "outputs": [
    {
     "name": "stdout",
     "output_type": "stream",
     "text": [
      "theoretical VaR(0.05): 3.19\n",
      "theoretical VaR(0.01): 5.64\n",
      "theoretical ES(0.05): 4.78\n",
      "theoretical ES(0.01): 7.79\n"
     ]
    }
   ],
   "source": [
    "from scipy.stats import t\n",
    "\n",
    "n_assets = 10\n",
    "b = 1/n_assets*np.ones((n_assets, 1))\n",
    "means = np.zeros(n_assets)\n",
    "np.random.seed(42)\n",
    "Sigma = np.random.rand(n_assets, n_assets)/100\n",
    "Sigma = np.dot(Sigma,Sigma.transpose())\n",
    "matrix = multivariate_t_rvs(means, Sigma, df=4, n=100000)\n",
    "Returns = np.dot(matrix, b)\n",
    "VaR_005 = -np.quantile(Returns, 0.05)\n",
    "VaR_001 = -np.quantile(Returns, 0.01)\n",
    "print('theoretical VaR(0.05): {}'.format(round(VaR_005*100, 2)))\n",
    "print('theoretical VaR(0.01): {}'.format(round(VaR_001*100, 2)))\n",
    "print('theoretical ES(0.05): {}'.format(round(-Returns[Returns < -VaR_005].mean()*100, 2)))\n",
    "print('theoretical ES(0.01): {}'.format(round(-Returns[Returns < -VaR_001].mean()*100, 2)))"
   ]
  },
  {
   "cell_type": "code",
   "execution_count": 42,
   "metadata": {},
   "outputs": [
    {
     "name": "stdout",
     "output_type": "stream",
     "text": [
      "0\n",
      "1\n",
      "2\n",
      "3\n",
      "4\n",
      "5\n",
      "6\n",
      "7\n",
      "8\n",
      "9\n",
      "empirical VaR(0.05): 3.22\n",
      "empirical VaR(0.01): 5.27\n",
      "empirical ES(0.05): 4.58\n",
      "empirical ES(0.01): 7.1\n"
     ]
    }
   ],
   "source": [
    "X = multivariate_t_rvs(means, Sigma, df=4, n=2000)\n",
    "\n",
    "from sklearn.decomposition import FastICA\n",
    "\n",
    "n_components=4\n",
    "transformer = FastICA(n_components=n_components, random_state=42)\n",
    "Y = transformer.fit_transform(X)\n",
    "\n",
    "M = 1000000\n",
    "N = 10\n",
    "emp_VaR005 = np.zeros(N)\n",
    "emp_VaR001 = np.zeros(N)\n",
    "emp_ES005 = np.zeros(N)\n",
    "emp_ES001 = np.zeros(N)\n",
    "params = []\n",
    "\n",
    "for i in range(n_components):\n",
    "    y_i = Y[:,i]\n",
    "    df, loc, scale = t.fit(y_i)\n",
    "    params.append((df, loc, scale))\n",
    "\n",
    "for i in range(N):\n",
    "    print(i)\n",
    "    Y_samples = np.zeros((M, n_components))\n",
    "    for j in range(n_components):\n",
    "        Y_samples[:,j] = t.rvs(params[j][0], params[j][1], params[j][2], size=M, random_state=42)\n",
    "\n",
    "    X_samples = transformer.inverse_transform(Y_samples)\n",
    "    Sample_Returns = np.dot(X_samples, b)\n",
    "    temp1 = -np.quantile(Sample_Returns, 0.05)\n",
    "    temp2 = -np.quantile(Sample_Returns, 0.01)\n",
    "    emp_VaR005[i] += temp1\n",
    "    emp_VaR001[i] += temp2\n",
    "    emp_ES005[i] += -Sample_Returns[Sample_Returns < -temp1].mean()\n",
    "    emp_ES001[i] += -Sample_Returns[Sample_Returns < -temp2].mean()\n",
    "    \n",
    "\n",
    "print('empirical VaR(0.05): {}'.format(round(emp_VaR005.mean()*100, 2)))\n",
    "print('empirical VaR(0.01): {}'.format(round(emp_VaR001.mean()*100, 2)))\n",
    "print('empirical ES(0.05): {}'.format(round(emp_ES005.mean()*100, 2)))\n",
    "print('empirical ES(0.01): {}'.format(round(emp_ES001.mean()*100, 2)))"
   ]
  },
  {
   "cell_type": "code",
   "execution_count": 10,
   "metadata": {},
   "outputs": [
    {
     "data": {
      "application/javascript": [
       "$(document).ready(\n",
       "    function() {\n",
       "        function appendUniqueDiv(){\n",
       "            // append a div with our uuid so we can check that it's already\n",
       "            // been sent and avoid duplicates on page reload\n",
       "            var notifiedDiv = document.createElement(\"div\")\n",
       "            notifiedDiv.id = \"cd98e9e9-fcb1-4951-8eaa-34125b0c7481\"\n",
       "            element.append(notifiedDiv)\n",
       "        }\n",
       "\n",
       "        // only send notifications if the pageload is complete; this will\n",
       "        // help stop extra notifications when a saved notebook is loaded,\n",
       "        // which during testing gives us state \"interactive\", not \"complete\"\n",
       "        if (document.readyState === 'complete') {\n",
       "            // check for the div that signifies that the notification\n",
       "            // was already sent\n",
       "            if (document.getElementById(\"cd98e9e9-fcb1-4951-8eaa-34125b0c7481\") === null) {\n",
       "                var notificationPayload = {\"requireInteraction\": false, \"icon\": \"/static/base/images/favicon.ico\", \"body\": \"Cell execution has finished!\", \"only_in_background\": false};\n",
       "\n",
       "                // We have a notification but the window is active\n",
       "                if (notificationPayload.only_in_background && !window.jupyterNotifyIsInBackground) {\n",
       "                    appendUniqueDiv();\n",
       "                    return;\n",
       "                }\n",
       "                if (Notification.permission !== 'denied') {\n",
       "                    if (Notification.permission !== 'granted') { \n",
       "                        Notification.requestPermission(function (permission) {\n",
       "                            if(!('permission' in Notification)) {\n",
       "                                Notification.permission = permission\n",
       "                            }\n",
       "                        })\n",
       "                    }\n",
       "                    if (Notification.permission === 'granted') {\n",
       "                    var notification = new Notification(\"Jupyter Notebook\", notificationPayload)\n",
       "                    appendUniqueDiv()\n",
       "                    notification.onclick = function () {\n",
       "                        window.focus();\n",
       "                        this.close();\n",
       "                        };\n",
       "                    } \n",
       "                }     \n",
       "            }\n",
       "        }\n",
       "    }\n",
       ")\n"
      ],
      "text/plain": [
       "<IPython.core.display.Javascript object>"
      ]
     },
     "metadata": {},
     "output_type": "display_data"
    }
   ],
   "source": [
    "%%notify\n",
    "from copulas.multivariate import GaussianMultivariate\n",
    "from copulas.univariate import StudentTUnivariate\n",
    "\n",
    "dist = GaussianMultivariate(distribution=StudentTUnivariate)\n",
    "dist.fit(X)"
   ]
  },
  {
   "cell_type": "code",
   "execution_count": 49,
   "metadata": {},
   "outputs": [
    {
     "name": "stderr",
     "output_type": "stream",
     "text": [
      "/home/mnovak/.local/lib/python3.7/site-packages/copulas/bivariate/base.py:160: RuntimeWarning: Data does not appear to be uniform.\n",
      "  warnings.warn(\"Data does not appear to be uniform.\", category=RuntimeWarning)\n"
     ]
    },
    {
     "data": {
      "application/javascript": [
       "$(document).ready(\n",
       "    function() {\n",
       "        function appendUniqueDiv(){\n",
       "            // append a div with our uuid so we can check that it's already\n",
       "            // been sent and avoid duplicates on page reload\n",
       "            var notifiedDiv = document.createElement(\"div\")\n",
       "            notifiedDiv.id = \"376b7821-4d4d-4b0c-9f79-98f3a1b6fbe0\"\n",
       "            element.append(notifiedDiv)\n",
       "        }\n",
       "\n",
       "        // only send notifications if the pageload is complete; this will\n",
       "        // help stop extra notifications when a saved notebook is loaded,\n",
       "        // which during testing gives us state \"interactive\", not \"complete\"\n",
       "        if (document.readyState === 'complete') {\n",
       "            // check for the div that signifies that the notification\n",
       "            // was already sent\n",
       "            if (document.getElementById(\"376b7821-4d4d-4b0c-9f79-98f3a1b6fbe0\") === null) {\n",
       "                var notificationPayload = {\"requireInteraction\": false, \"icon\": \"/static/base/images/favicon.ico\", \"body\": \"Cell execution has finished!\", \"only_in_background\": false};\n",
       "\n",
       "                // We have a notification but the window is active\n",
       "                if (notificationPayload.only_in_background && !window.jupyterNotifyIsInBackground) {\n",
       "                    appendUniqueDiv();\n",
       "                    return;\n",
       "                }\n",
       "                if (Notification.permission !== 'denied') {\n",
       "                    if (Notification.permission !== 'granted') { \n",
       "                        Notification.requestPermission(function (permission) {\n",
       "                            if(!('permission' in Notification)) {\n",
       "                                Notification.permission = permission\n",
       "                            }\n",
       "                        })\n",
       "                    }\n",
       "                    if (Notification.permission === 'granted') {\n",
       "                    var notification = new Notification(\"Jupyter Notebook\", notificationPayload)\n",
       "                    appendUniqueDiv()\n",
       "                    notification.onclick = function () {\n",
       "                        window.focus();\n",
       "                        this.close();\n",
       "                        };\n",
       "                    } \n",
       "                }     \n",
       "            }\n",
       "        }\n",
       "    }\n",
       ")\n"
      ],
      "text/plain": [
       "<IPython.core.display.Javascript object>"
      ]
     },
     "metadata": {},
     "output_type": "display_data"
    }
   ],
   "source": [
    "%%notify\n",
    "from copulas.multivariate import VineCopula\n",
    "from copulas.univariate import StudentTUnivariate\n",
    "\n",
    "center = VineCopula('center')\n",
    "regular = VineCopula('regular')\n",
    "direct = VineCopula('direct')\n",
    "\n",
    "center.fit(pd.DataFrame(X))\n",
    "regular.fit(pd.DataFrame(X))\n",
    "direct.fit(pd.DataFrame(X))"
   ]
  },
  {
   "cell_type": "code",
   "execution_count": 57,
   "metadata": {},
   "outputs": [
    {
     "name": "stdout",
     "output_type": "stream",
     "text": [
      "0\n",
      "1\n",
      "2\n",
      "3\n",
      "4\n",
      "5\n",
      "6\n",
      "7\n",
      "8\n",
      "9\n",
      "empirical VaR(0.05): 4.68\n",
      "empirical VaR(0.01): 8.02\n",
      "empirical ES(0.05): 7.45\n",
      "empirical ES(0.01): 12.0\n"
     ]
    }
   ],
   "source": [
    "M = 100\n",
    "N = 10\n",
    "emp_VaR005 = np.zeros(N)\n",
    "emp_VaR001 = np.zeros(N)\n",
    "emp_ES005 = np.zeros(N)\n",
    "emp_ES001 = np.zeros(N)\n",
    "\n",
    "for i in range(N):\n",
    "    print(i)\n",
    "    X_samples = center.sample(M).to_numpy()\n",
    "    Sample_Returns = np.dot(X_samples, b)\n",
    "    temp1 = -np.quantile(Sample_Returns, 0.05)\n",
    "    temp2 = -np.quantile(Sample_Returns, 0.01)\n",
    "    emp_VaR005[i] += temp1\n",
    "    emp_VaR001[i] += temp2\n",
    "    emp_ES005[i] += -Sample_Returns[Sample_Returns < -temp1].mean()\n",
    "    emp_ES001[i] += -Sample_Returns[Sample_Returns < -temp2].mean()\n",
    "    \n",
    "print('empirical VaR(0.05): {}'.format(round(emp_VaR005.mean()*100, 2)))\n",
    "print('empirical VaR(0.01): {}'.format(round(emp_VaR001.mean()*100, 2)))\n",
    "print('empirical ES(0.05): {}'.format(round(emp_ES005.mean()*100, 2)))\n",
    "print('empirical ES(0.01): {}'.format(round(emp_ES001.mean()*100, 2)))"
   ]
  }
 ],
 "metadata": {
  "kernelspec": {
   "display_name": "Python 3",
   "language": "python",
   "name": "python3"
  },
  "language_info": {
   "codemirror_mode": {
    "name": "ipython",
    "version": 3
   },
   "file_extension": ".py",
   "mimetype": "text/x-python",
   "name": "python",
   "nbconvert_exporter": "python",
   "pygments_lexer": "ipython3",
   "version": "3.7.5"
  }
 },
 "nbformat": 4,
 "nbformat_minor": 4
}
